{
  "nbformat": 4,
  "nbformat_minor": 0,
  "metadata": {
    "kernelspec": {
      "display_name": "Python 3",
      "language": "python",
      "name": "python3"
    },
    "language_info": {
      "codemirror_mode": {
        "name": "ipython",
        "version": 3
      },
      "file_extension": ".py",
      "mimetype": "text/x-python",
      "name": "python",
      "nbconvert_exporter": "python",
      "pygments_lexer": "ipython3",
      "version": "3.6.1"
    },
    "colab": {
      "name": "turnover predict.ipynb",
      "provenance": [],
      "collapsed_sections": [],
      "include_colab_link": true
    },
    "accelerator": "GPU"
  },
  "cells": [
    {
      "cell_type": "markdown",
      "metadata": {
        "id": "view-in-github",
        "colab_type": "text"
      },
      "source": [
        "<a href=\"https://colab.research.google.com/github/i311297/Files/blob/master/turnover_predict.ipynb\" target=\"_parent\"><img src=\"https://colab.research.google.com/assets/colab-badge.svg\" alt=\"Open In Colab\"/></a>"
      ]
    },
    {
      "cell_type": "code",
      "metadata": {
        "id": "kcpwSvGlbptF",
        "colab_type": "code",
        "colab": {}
      },
      "source": [
        "import pandas as pd\n",
        "import numpy as np\n",
        "import warnings\n",
        "warnings.filterwarnings('ignore')\n",
        "import matplotlib.pyplot as plt\n",
        "import seaborn as sns\n",
        "%matplotlib inline"
      ],
      "execution_count": 1,
      "outputs": []
    },
    {
      "cell_type": "code",
      "metadata": {
        "id": "hlNoq2L6bptK",
        "colab_type": "code",
        "colab": {}
      },
      "source": [
        "data = pd.read_csv(\"staff_efs_to_pred.csv\",sep = \";\")"
      ],
      "execution_count": 2,
      "outputs": []
    },
    {
      "cell_type": "code",
      "metadata": {
        "id": "AeuWgh1VbptN",
        "colab_type": "code",
        "colab": {}
      },
      "source": [
        "data['MONTH_DATE'] =list(map(lambda x: x + \"-01\",  data[\"MONTH_DATE\"]))"
      ],
      "execution_count": 3,
      "outputs": []
    },
    {
      "cell_type": "markdown",
      "metadata": {
        "id": "ca3QlxTibptQ",
        "colab_type": "text"
      },
      "source": [
        "## Мысли подхода к задаче\n",
        "\n",
        "1. сначала предсказывать количество физиков\n",
        "2. Зная текучку посчитать колво в индустрии\n",
        "3. распределить на бины."
      ]
    },
    {
      "cell_type": "code",
      "metadata": {
        "id": "rw7357jNbptR",
        "colab_type": "code",
        "colab": {}
      },
      "source": [
        "df_seva = pd.read_excel(\"staff_turnover.xlsx\").drop([\"id\", \"industry_name\", \"region_name\"], axis=1)\n",
        "# df_seva.month_date = pd.to_datetime(df_seva.month_date)"
      ],
      "execution_count": 4,
      "outputs": []
    },
    {
      "cell_type": "code",
      "metadata": {
        "id": "B_fvyMWobptU",
        "colab_type": "code",
        "colab": {
          "base_uri": "https://localhost:8080/",
          "height": 195
        },
        "outputId": "c78fbed7-db94-4bbe-d470-79ca6eed6f48"
      },
      "source": [
        "df_seva.head()"
      ],
      "execution_count": 5,
      "outputs": [
        {
          "output_type": "execute_result",
          "data": {
            "text/html": [
              "<div>\n",
              "<style scoped>\n",
              "    .dataframe tbody tr th:only-of-type {\n",
              "        vertical-align: middle;\n",
              "    }\n",
              "\n",
              "    .dataframe tbody tr th {\n",
              "        vertical-align: top;\n",
              "    }\n",
              "\n",
              "    .dataframe thead th {\n",
              "        text-align: right;\n",
              "    }\n",
              "</style>\n",
              "<table border=\"1\" class=\"dataframe\">\n",
              "  <thead>\n",
              "    <tr style=\"text-align: right;\">\n",
              "      <th></th>\n",
              "      <th>month_date</th>\n",
              "      <th>region_id</th>\n",
              "      <th>industry_id</th>\n",
              "      <th>avg_staff_turnover</th>\n",
              "    </tr>\n",
              "  </thead>\n",
              "  <tbody>\n",
              "    <tr>\n",
              "      <th>0</th>\n",
              "      <td>2017-01-01</td>\n",
              "      <td>7</td>\n",
              "      <td>15</td>\n",
              "      <td>5.00</td>\n",
              "    </tr>\n",
              "    <tr>\n",
              "      <th>1</th>\n",
              "      <td>2017-01-01</td>\n",
              "      <td>8</td>\n",
              "      <td>21</td>\n",
              "      <td>2.50</td>\n",
              "    </tr>\n",
              "    <tr>\n",
              "      <th>2</th>\n",
              "      <td>2017-01-01</td>\n",
              "      <td>4</td>\n",
              "      <td>33</td>\n",
              "      <td>3.85</td>\n",
              "    </tr>\n",
              "    <tr>\n",
              "      <th>3</th>\n",
              "      <td>2017-01-01</td>\n",
              "      <td>8</td>\n",
              "      <td>22</td>\n",
              "      <td>1.72</td>\n",
              "    </tr>\n",
              "    <tr>\n",
              "      <th>4</th>\n",
              "      <td>2017-01-01</td>\n",
              "      <td>8</td>\n",
              "      <td>11</td>\n",
              "      <td>2.89</td>\n",
              "    </tr>\n",
              "  </tbody>\n",
              "</table>\n",
              "</div>"
            ],
            "text/plain": [
              "   month_date  region_id  industry_id  avg_staff_turnover\n",
              "0  2017-01-01          7           15                5.00\n",
              "1  2017-01-01          8           21                2.50\n",
              "2  2017-01-01          4           33                3.85\n",
              "3  2017-01-01          8           22                1.72\n",
              "4  2017-01-01          8           11                2.89"
            ]
          },
          "metadata": {
            "tags": []
          },
          "execution_count": 5
        }
      ]
    },
    {
      "cell_type": "markdown",
      "metadata": {
        "id": "eTy1D6ejbptZ",
        "colab_type": "text"
      },
      "source": [
        "### предсказываю колличество фл"
      ]
    },
    {
      "cell_type": "markdown",
      "metadata": {
        "id": "qNpLlQQAbpta",
        "colab_type": "text"
      },
      "source": [
        "#### сначала предскажу на основе Севы кол_во фл\n",
        "1. убрать бины оставить текучку и колво фл\n",
        "2. заджоинить с Севой"
      ]
    },
    {
      "cell_type": "code",
      "metadata": {
        "id": "pYkYxsvwbptb",
        "colab_type": "code",
        "colab": {}
      },
      "source": [
        "df_to_pred = data.drop([\"bin_number\", \"count\", \"cnt_turnover\", \"inn_cnt\", \"percent\"], axis = 1)"
      ],
      "execution_count": 6,
      "outputs": []
    },
    {
      "cell_type": "code",
      "metadata": {
        "id": "2LDBMkoLbpte",
        "colab_type": "code",
        "colab": {}
      },
      "source": [
        "df_to_pred.columns = list(map(lambda x:x.lower(), df_to_pred.columns))"
      ],
      "execution_count": 7,
      "outputs": []
    },
    {
      "cell_type": "code",
      "metadata": {
        "id": "rEnC_oxtbpth",
        "colab_type": "code",
        "colab": {}
      },
      "source": [
        "#джоиню с севой \n",
        "df_cnt_pred = df_seva.merge(df_to_pred,on = [\"industry_id\", \"region_id\", \"month_date\"], how = \"left\")\\\n",
        "               .sort_values([\"industry_id\", \"region_id\", \"month_date\"], ascending = False)\\\n",
        "            .drop(\"avg_staff_turnover_y\", axis= 1).sort_values(\"month_date\", ascending = True)"
      ],
      "execution_count": 8,
      "outputs": []
    },
    {
      "cell_type": "code",
      "metadata": {
        "id": "SZhlka6Gbptj",
        "colab_type": "code",
        "colab": {}
      },
      "source": [
        "#ДЛЯ ОБУЧЕНИЯ\n",
        "df = df_cnt_pred.dropna().drop_duplicates()\n"
      ],
      "execution_count": 9,
      "outputs": []
    },
    {
      "cell_type": "code",
      "metadata": {
        "id": "V_J_i64Zbptm",
        "colab_type": "code",
        "colab": {
          "base_uri": "https://localhost:8080/",
          "height": 67
        },
        "outputId": "585a9a30-9692-4d75-b1f0-b5f480dfa48e"
      },
      "source": [
        "df.columns"
      ],
      "execution_count": 10,
      "outputs": [
        {
          "output_type": "execute_result",
          "data": {
            "text/plain": [
              "Index(['month_date', 'region_id', 'industry_id', 'avg_staff_turnover_x',\n",
              "       'cnt_fl'],\n",
              "      dtype='object')"
            ]
          },
          "metadata": {
            "tags": []
          },
          "execution_count": 10
        }
      ]
    },
    {
      "cell_type": "code",
      "metadata": {
        "id": "F4T5Ar0Dbptr",
        "colab_type": "code",
        "colab": {}
      },
      "source": [
        "from sklearn.preprocessing import OneHotEncoder\n",
        "from scipy import sparse\n",
        "\n",
        "import itertools as it \n",
        "\n",
        "\n",
        "def block_cross_features(X, id_blocks):\n",
        "    '''\n",
        "        Рассчет крос признаков между блоками признаков.\n",
        "    '''\n",
        "    # создание пар id признаков\n",
        "    cross_pairs = []\n",
        "    for b1, b2 in it.combinations(id_blocks, 2):\n",
        "        cross_pairs.extend(list(it.product(b1, b2)))\n",
        "    \n",
        "    # рассчет крос признаков \n",
        "    X_new = np.zeros((X.shape[0], len(cross_pairs)))\n",
        "    for i, id_pair in enumerate(cross_pairs):\n",
        "        X_new[:,i] = X[:,id_pair].prod(axis=1)\n",
        "        \n",
        "    return X_new\n",
        "\n",
        "def creare_featuers(X, oh_enc):\n",
        "    '''\n",
        "        Подготовка призаков для модели.\n",
        "    '''\n",
        "    \n",
        "    # onehot для месяца, региона и отрасти\n",
        "    X_onehot = oh_enc.transform(X[:,:3])\n",
        "    X_year = X[:,-1:]\n",
        "    \n",
        "    # группы id признаков\n",
        "    id_blocks = [\n",
        "        np.arange(len(oh_enc.categories_[0])-1),\n",
        "        np.arange(len(oh_enc.categories_[1])-1) + len(oh_enc.categories_[0])-1,\n",
        "        np.arange(len(oh_enc.categories_[2])-1) + len(oh_enc.categories_[1])-1 + len(oh_enc.categories_[0])-1,\n",
        "    ]\n",
        "    \n",
        "    # крос признаки между дамми переменными\n",
        "    X_cross = block_cross_features(X_onehot.toarray(), id_blocks)\n",
        "    \n",
        "    # итоговые признаки\n",
        "    X = np.concatenate([\n",
        "        np.ones((X_onehot.shape[0], 1)), # constant \n",
        "        X_cross, # dummy cross featuers\n",
        "        X_onehot.toarray(), # dummy features\n",
        "        X_year\n",
        "    ], axis=1)\n",
        "    \n",
        "    # проверка\n",
        "    n_month = 12\n",
        "    n_region = df[\"region_id\"].unique().shape[0]\n",
        "    n_industry = df[\"industry_id\"].unique().shape[0]\n",
        "    n_year_feature = 1\n",
        "    \n",
        "    n_features = ((n_month-1)*(n_industry-1) + (n_region-1)*(n_month-1) + (n_region-1)*(n_industry-1)) + \\\n",
        "                 ((n_month-1)+(n_industry-1)+(n_region-1)) + n_year_feature + 1\n",
        "    \n",
        "    assert X.shape[1] == n_features\n",
        "    \n",
        "    return X"
      ],
      "execution_count": 11,
      "outputs": []
    },
    {
      "cell_type": "code",
      "metadata": {
        "id": "WBBP-pdDbptv",
        "colab_type": "code",
        "colab": {
          "base_uri": "https://localhost:8080/",
          "height": 34
        },
        "outputId": "d28aaf84-6f2f-4c39-c8de-01460ce3dc08"
      },
      "source": [
        "oh_enc = OneHotEncoder(drop = \"first\")\n",
        "\n",
        "\n",
        "\n",
        "df[\"month_date\"] = pd.to_datetime(df[\"month_date\"])\n",
        "df[\"month\"] = df[\"month_date\"].dt.month\n",
        "df[\"year\"] = df[\"month_date\"].dt.year\n",
        "X = df[[\"region_id\", \"industry_id\", \"month\", \"year\"]].values\n",
        "y = df[\"cnt_fl\"].values\n",
        "\n",
        "oh_enc.fit(X[:,:3])\n",
        "\n",
        "X = creare_featuers(X, oh_enc)\n",
        "X.shape, y.shape"
      ],
      "execution_count": 19,
      "outputs": [
        {
          "output_type": "execute_result",
          "data": {
            "text/plain": [
              "((13686, 1180), (13686,))"
            ]
          },
          "metadata": {
            "tags": []
          },
          "execution_count": 19
        }
      ]
    },
    {
      "cell_type": "code",
      "metadata": {
        "id": "K_p3aJ6Sbpty",
        "colab_type": "code",
        "colab": {
          "base_uri": "https://localhost:8080/",
          "height": 34
        },
        "outputId": "a05fc396-f209-435a-841b-8406c582666d"
      },
      "source": [
        "# train test split\n",
        "X_test = X[X[:,-1]==2019]\n",
        "y_test = y[X[:,-1]==2019]\n",
        "\n",
        "X_train = X[X[:,-1]!=2019]\n",
        "y_train = y[X[:,-1]!=2019]\n",
        "\n",
        "X_train.shape, X_test.shape"
      ],
      "execution_count": 20,
      "outputs": [
        {
          "output_type": "execute_result",
          "data": {
            "text/plain": [
              "((9445, 1180), (4241, 1180))"
            ]
          },
          "metadata": {
            "tags": []
          },
          "execution_count": 20
        }
      ]
    },
    {
      "cell_type": "code",
      "metadata": {
        "id": "mc6K7bIpehcJ",
        "colab_type": "code",
        "colab": {
          "base_uri": "https://localhost:8080/",
          "height": 281
        },
        "outputId": "2a2dc321-7f73-4eeb-de9b-b3c4671f5e5e"
      },
      "source": [
        "sns.distplot((np.log(y_train)))\n",
        "sns.distplot((np.log(y_test)))\n",
        "plt.title(\"Сравнение распределений таргета\");"
      ],
      "execution_count": 23,
      "outputs": [
        {
          "output_type": "display_data",
          "data": {
            "image/png": "[encoded data removed]",
            "text/plain": [
              "<Figure size 432x288 with 1 Axes>"
            ]
          },
          "metadata": {
            "tags": [],
            "needs_background": "light"
          }
        }
      ]
    },
    {
      "cell_type": "markdown",
      "metadata": {
        "id": "CDmlnRI0e-l-",
        "colab_type": "text"
      },
      "source": [
        "### Обучение модели\n"
      ]
    },
    {
      "cell_type": "code",
      "metadata": {
        "id": "Dc1RanSkfBQ1",
        "colab_type": "code",
        "colab": {}
      },
      "source": [
        "from rvl import RVL"
      ],
      "execution_count": 26,
      "outputs": []
    },
    {
      "cell_type": "code",
      "metadata": {
        "id": "V9uA3QvIfDtO",
        "colab_type": "code",
        "colab": {
          "base_uri": "https://localhost:8080/",
          "height": 34
        },
        "outputId": "cffa6605-b7fe-48aa-dea2-0987c7375cb7"
      },
      "source": [
        "model = RVL(max_iter=5000)\n",
        "model.fit(X_train, np.log(y_train))"
      ],
      "execution_count": 30,
      "outputs": [
        {
          "output_type": "stream",
          "text": [
            "100%|██████████| 5000/5000 [07:23<00:00, 11.29it/s]\n"
          ],
          "name": "stderr"
        }
      ]
    },
    {
      "cell_type": "code",
      "metadata": {
        "id": "oO0t3lUnfG33",
        "colab_type": "code",
        "colab": {}
      },
      "source": [
        "def get_scores(y, y_pred):\n",
        "    '''\n",
        "        Оценка качества предстказаний модели.\n",
        "    '''\n",
        "    rmse = np.sqrt(((y-y_pred)**2).mean())\n",
        "    mae = np.abs(y-y_pred).mean()\n",
        "    mape = np.abs((y-y_pred)/y_pred).mean()\n",
        "    return rmse, mae, mape"
      ],
      "execution_count": 28,
      "outputs": []
    },
    {
      "cell_type": "code",
      "metadata": {
        "id": "T-a6dJsFfjVx",
        "colab_type": "code",
        "colab": {
          "base_uri": "https://localhost:8080/",
          "height": 67
        },
        "outputId": "770d56d5-48d0-4c4b-b98b-2f6b8ca99810"
      },
      "source": [
        "print((model.w != 0).sum())\n",
        "\n",
        "y_pred = model.predict(X_train)\n",
        "y_pred = np.exp(y_pred)\n",
        "print(\"train: RMSE: {:.5}, MAE: {:.5}, MAPE: {:.5}\".format(*get_scores(y_train, y_pred)))\n",
        "\n",
        "y_pred = model.predict(X_test)\n",
        "y_pred = np.exp(y_pred)\n",
        "print(\"test:  RMSE: {:.5}, MAE: {:.5}, MAPE: {:.5}\".format(*get_scores(y_test, y_pred)))"
      ],
      "execution_count": 31,
      "outputs": [
        {
          "output_type": "stream",
          "text": [
            "595\n",
            "train: RMSE: 4662.6, MAE: 266.07, MAPE: 0.19296\n",
            "test:  RMSE: 1951.3, MAE: 354.48, MAPE: 1.3956e+20\n"
          ],
          "name": "stdout"
        }
      ]
    },
    {
      "cell_type": "code",
      "metadata": {
        "id": "TLoIU5f1gM6O",
        "colab_type": "code",
        "colab": {
          "base_uri": "https://localhost:8080/",
          "height": 265
        },
        "outputId": "386f9366-8473-446f-bc8b-15475d8bcbd4"
      },
      "source": [
        "sns.distplot(np.log(y_test), label=\"true\")\n",
        "sns.distplot(np.log(y_pred), label=\"pred\")\n",
        "plt.legend();"
      ],
      "execution_count": 32,
      "outputs": [
        {
          "output_type": "display_data",
          "data": {
            "image/png": "[encoded data removed]",
            "text/plain": [
              "<Figure size 432x288 with 1 Axes>"
            ]
          },
          "metadata": {
            "tags": [],
            "needs_background": "light"
          }
        }
      ]
    },
    {
      "cell_type": "code",
      "metadata": {
        "id": "EsQe42Wcft7K",
        "colab_type": "code",
        "colab": {
          "base_uri": "https://localhost:8080/",
          "height": 34
        },
        "outputId": "da8764ac-9e58-4da1-d1d5-5c2d445a7abf"
      },
      "source": [
        "model = RVL(max_iter=1000)\n",
        "model.fit(X, np.log(y))"
      ],
      "execution_count": 33,
      "outputs": [
        {
          "output_type": "stream",
          "text": [
            "100%|██████████| 1000/1000 [02:02<00:00,  8.15it/s]\n"
          ],
          "name": "stderr"
        }
      ]
    },
    {
      "cell_type": "code",
      "metadata": {
        "id": "moXkNJk7h-qH",
        "colab_type": "code",
        "colab": {}
      },
      "source": [
        "# датасет для предсказаний\n",
        "dates = df[\"month_date\"]\n",
        "dates = pd.to_datetime(dates, format=\"%Y/%m/%d\")\n",
        "dates = dates[(dates > \"2018.09.01\")]\n",
        "dates = dates[(dates <= \"2019.06.01\")]\n",
        "\n",
        "dates = dates + pd.DateOffset(years=1)"
      ],
      "execution_count": 44,
      "outputs": []
    },
    {
      "cell_type": "code",
      "metadata": {
        "id": "sxE7ZWBfjhVy",
        "colab_type": "code",
        "colab": {}
      },
      "source": [
        "u_reg_id = df[\"region_id\"].unique()\n",
        "u_ind_id = df[\"industry_id\"].unique()\n",
        "u_date = dates.unique()\n",
        "\n",
        "pred_df = pd.DataFrame(\n",
        "    data = list(it.product(u_date, u_reg_id, u_ind_id)),\n",
        "    columns = [\"month_date\", \"region_id\", \"industry_id\"])\n",
        "\n",
        "pred_df[\"month\"] = pred_df[\"month_date\"].dt.month\n",
        "pred_df[\"year\"] = pred_df[\"month_date\"].dt.year"
      ],
      "execution_count": 45,
      "outputs": []
    },
    {
      "cell_type": "code",
      "metadata": {
        "id": "yxI5bRxDjlcc",
        "colab_type": "code",
        "colab": {
          "base_uri": "https://localhost:8080/",
          "height": 34
        },
        "outputId": "03ddcea8-fbd7-4fac-a59d-41f07b7a3209"
      },
      "source": [
        "X = pred_df[[\"region_id\", \"industry_id\", \"month\", \"year\"]].values\n",
        "\n",
        "X_future = creare_featuers(X, oh_enc)\n",
        "X_future.shape"
      ],
      "execution_count": 46,
      "outputs": [
        {
          "output_type": "execute_result",
          "data": {
            "text/plain": [
              "(4968, 1180)"
            ]
          },
          "metadata": {
            "tags": []
          },
          "execution_count": 46
        }
      ]
    },
    {
      "cell_type": "code",
      "metadata": {
        "id": "E6UaoJlfjrxk",
        "colab_type": "code",
        "colab": {}
      },
      "source": [
        "pred = np.exp(model.predict(X_future))"
      ],
      "execution_count": 47,
      "outputs": []
    },
    {
      "cell_type": "code",
      "metadata": {
        "id": "t-iIz96Pj95w",
        "colab_type": "code",
        "colab": {}
      },
      "source": [
        "pred[pred < 0] = 0"
      ],
      "execution_count": 48,
      "outputs": []
    },
    {
      "cell_type": "code",
      "metadata": {
        "id": "566DpHWrkGeE",
        "colab_type": "code",
        "colab": {}
      },
      "source": [
        "pred = list(map(round, pred))"
      ],
      "execution_count": 49,
      "outputs": []
    },
    {
      "cell_type": "code",
      "metadata": {
        "id": "D0ygeR-skOyT",
        "colab_type": "code",
        "colab": {}
      },
      "source": [
        "pred_df.loc[:,\"cnt_fl\"] = pred"
      ],
      "execution_count": 50,
      "outputs": []
    },
    {
      "cell_type": "code",
      "metadata": {
        "id": "CNcIQaNNkaZh",
        "colab_type": "code",
        "colab": {
          "base_uri": "https://localhost:8080/",
          "height": 402
        },
        "outputId": "ba73dc1d-24b4-4184-84bf-dabe3f55dfd0"
      },
      "source": [
        "pred_df"
      ],
      "execution_count": 51,
      "outputs": [
        {
          "output_type": "execute_result",
          "data": {
            "text/html": [
              "<div>\n",
              "<style scoped>\n",
              "    .dataframe tbody tr th:only-of-type {\n",
              "        vertical-align: middle;\n",
              "    }\n",
              "\n",
              "    .dataframe tbody tr th {\n",
              "        vertical-align: top;\n",
              "    }\n",
              "\n",
              "    .dataframe thead th {\n",
              "        text-align: right;\n",
              "    }\n",
              "</style>\n",
              "<table border=\"1\" class=\"dataframe\">\n",
              "  <thead>\n",
              "    <tr style=\"text-align: right;\">\n",
              "      <th></th>\n",
              "      <th>month_date</th>\n",
              "      <th>region_id</th>\n",
              "      <th>industry_id</th>\n",
              "      <th>month</th>\n",
              "      <th>year</th>\n",
              "      <th>cnt_fl</th>\n",
              "    </tr>\n",
              "  </thead>\n",
              "  <tbody>\n",
              "    <tr>\n",
              "      <th>0</th>\n",
              "      <td>2019-10-01</td>\n",
              "      <td>8</td>\n",
              "      <td>30</td>\n",
              "      <td>10</td>\n",
              "      <td>2019</td>\n",
              "      <td>5115.0</td>\n",
              "    </tr>\n",
              "    <tr>\n",
              "      <th>1</th>\n",
              "      <td>2019-10-01</td>\n",
              "      <td>8</td>\n",
              "      <td>14</td>\n",
              "      <td>10</td>\n",
              "      <td>2019</td>\n",
              "      <td>1834.0</td>\n",
              "    </tr>\n",
              "    <tr>\n",
              "      <th>2</th>\n",
              "      <td>2019-10-01</td>\n",
              "      <td>8</td>\n",
              "      <td>19</td>\n",
              "      <td>10</td>\n",
              "      <td>2019</td>\n",
              "      <td>1720.0</td>\n",
              "    </tr>\n",
              "    <tr>\n",
              "      <th>3</th>\n",
              "      <td>2019-10-01</td>\n",
              "      <td>8</td>\n",
              "      <td>45</td>\n",
              "      <td>10</td>\n",
              "      <td>2019</td>\n",
              "      <td>19786.0</td>\n",
              "    </tr>\n",
              "    <tr>\n",
              "      <th>4</th>\n",
              "      <td>2019-10-01</td>\n",
              "      <td>8</td>\n",
              "      <td>25</td>\n",
              "      <td>10</td>\n",
              "      <td>2019</td>\n",
              "      <td>6711.0</td>\n",
              "    </tr>\n",
              "    <tr>\n",
              "      <th>...</th>\n",
              "      <td>...</td>\n",
              "      <td>...</td>\n",
              "      <td>...</td>\n",
              "      <td>...</td>\n",
              "      <td>...</td>\n",
              "      <td>...</td>\n",
              "    </tr>\n",
              "    <tr>\n",
              "      <th>4963</th>\n",
              "      <td>2020-06-01</td>\n",
              "      <td>5</td>\n",
              "      <td>29</td>\n",
              "      <td>6</td>\n",
              "      <td>2020</td>\n",
              "      <td>57.0</td>\n",
              "    </tr>\n",
              "    <tr>\n",
              "      <th>4964</th>\n",
              "      <td>2020-06-01</td>\n",
              "      <td>5</td>\n",
              "      <td>5</td>\n",
              "      <td>6</td>\n",
              "      <td>2020</td>\n",
              "      <td>5.0</td>\n",
              "    </tr>\n",
              "    <tr>\n",
              "      <th>4965</th>\n",
              "      <td>2020-06-01</td>\n",
              "      <td>5</td>\n",
              "      <td>42</td>\n",
              "      <td>6</td>\n",
              "      <td>2020</td>\n",
              "      <td>22.0</td>\n",
              "    </tr>\n",
              "    <tr>\n",
              "      <th>4966</th>\n",
              "      <td>2020-06-01</td>\n",
              "      <td>5</td>\n",
              "      <td>34</td>\n",
              "      <td>6</td>\n",
              "      <td>2020</td>\n",
              "      <td>3.0</td>\n",
              "    </tr>\n",
              "    <tr>\n",
              "      <th>4967</th>\n",
              "      <td>2020-06-01</td>\n",
              "      <td>5</td>\n",
              "      <td>36</td>\n",
              "      <td>6</td>\n",
              "      <td>2020</td>\n",
              "      <td>173.0</td>\n",
              "    </tr>\n",
              "  </tbody>\n",
              "</table>\n",
              "<p>4968 rows × 6 columns</p>\n",
              "</div>"
            ],
            "text/plain": [
              "     month_date  region_id  industry_id  month  year   cnt_fl\n",
              "0    2019-10-01          8           30     10  2019   5115.0\n",
              "1    2019-10-01          8           14     10  2019   1834.0\n",
              "2    2019-10-01          8           19     10  2019   1720.0\n",
              "3    2019-10-01          8           45     10  2019  19786.0\n",
              "4    2019-10-01          8           25     10  2019   6711.0\n",
              "...         ...        ...          ...    ...   ...      ...\n",
              "4963 2020-06-01          5           29      6  2020     57.0\n",
              "4964 2020-06-01          5            5      6  2020      5.0\n",
              "4965 2020-06-01          5           42      6  2020     22.0\n",
              "4966 2020-06-01          5           34      6  2020      3.0\n",
              "4967 2020-06-01          5           36      6  2020    173.0\n",
              "\n",
              "[4968 rows x 6 columns]"
            ]
          },
          "metadata": {
            "tags": []
          },
          "execution_count": 51
        }
      ]
    },
    {
      "cell_type": "code",
      "metadata": {
        "id": "yr25MnO9k7eI",
        "colab_type": "code",
        "colab": {
          "base_uri": "https://localhost:8080/",
          "height": 402
        },
        "outputId": "efdee640-2262-4ce1-ba06-1270cae38563"
      },
      "source": [
        "df"
      ],
      "execution_count": 53,
      "outputs": [
        {
          "output_type": "execute_result",
          "data": {
            "text/html": [
              "<div>\n",
              "<style scoped>\n",
              "    .dataframe tbody tr th:only-of-type {\n",
              "        vertical-align: middle;\n",
              "    }\n",
              "\n",
              "    .dataframe tbody tr th {\n",
              "        vertical-align: top;\n",
              "    }\n",
              "\n",
              "    .dataframe thead th {\n",
              "        text-align: right;\n",
              "    }\n",
              "</style>\n",
              "<table border=\"1\" class=\"dataframe\">\n",
              "  <thead>\n",
              "    <tr style=\"text-align: right;\">\n",
              "      <th></th>\n",
              "      <th>month_date</th>\n",
              "      <th>region_id</th>\n",
              "      <th>industry_id</th>\n",
              "      <th>avg_staff_turnover_x</th>\n",
              "      <th>cnt_fl</th>\n",
              "      <th>month</th>\n",
              "      <th>year</th>\n",
              "    </tr>\n",
              "  </thead>\n",
              "  <tbody>\n",
              "    <tr>\n",
              "      <th>57</th>\n",
              "      <td>2017-01-01</td>\n",
              "      <td>8</td>\n",
              "      <td>30</td>\n",
              "      <td>1.610000</td>\n",
              "      <td>2109.0</td>\n",
              "      <td>1</td>\n",
              "      <td>2017</td>\n",
              "    </tr>\n",
              "    <tr>\n",
              "      <th>114</th>\n",
              "      <td>2017-01-01</td>\n",
              "      <td>4</td>\n",
              "      <td>14</td>\n",
              "      <td>4.880000</td>\n",
              "      <td>41.0</td>\n",
              "      <td>1</td>\n",
              "      <td>2017</td>\n",
              "    </tr>\n",
              "    <tr>\n",
              "      <th>68</th>\n",
              "      <td>2017-01-01</td>\n",
              "      <td>3</td>\n",
              "      <td>30</td>\n",
              "      <td>2.570000</td>\n",
              "      <td>756.0</td>\n",
              "      <td>1</td>\n",
              "      <td>2017</td>\n",
              "    </tr>\n",
              "    <tr>\n",
              "      <th>31</th>\n",
              "      <td>2017-01-01</td>\n",
              "      <td>4</td>\n",
              "      <td>19</td>\n",
              "      <td>16.670000</td>\n",
              "      <td>12.0</td>\n",
              "      <td>1</td>\n",
              "      <td>2017</td>\n",
              "    </tr>\n",
              "    <tr>\n",
              "      <th>98</th>\n",
              "      <td>2017-01-01</td>\n",
              "      <td>8</td>\n",
              "      <td>45</td>\n",
              "      <td>2.960000</td>\n",
              "      <td>11576.0</td>\n",
              "      <td>1</td>\n",
              "      <td>2017</td>\n",
              "    </tr>\n",
              "    <tr>\n",
              "      <th>...</th>\n",
              "      <td>...</td>\n",
              "      <td>...</td>\n",
              "      <td>...</td>\n",
              "      <td>...</td>\n",
              "      <td>...</td>\n",
              "      <td>...</td>\n",
              "      <td>...</td>\n",
              "    </tr>\n",
              "    <tr>\n",
              "      <th>53682</th>\n",
              "      <td>2019-09-01</td>\n",
              "      <td>4</td>\n",
              "      <td>8</td>\n",
              "      <td>5.764104</td>\n",
              "      <td>85.0</td>\n",
              "      <td>9</td>\n",
              "      <td>2019</td>\n",
              "    </tr>\n",
              "    <tr>\n",
              "      <th>52622</th>\n",
              "      <td>2019-09-01</td>\n",
              "      <td>10</td>\n",
              "      <td>15</td>\n",
              "      <td>5.138004</td>\n",
              "      <td>138.0</td>\n",
              "      <td>9</td>\n",
              "      <td>2019</td>\n",
              "    </tr>\n",
              "    <tr>\n",
              "      <th>52343</th>\n",
              "      <td>2019-09-01</td>\n",
              "      <td>5</td>\n",
              "      <td>10</td>\n",
              "      <td>13.040787</td>\n",
              "      <td>14.0</td>\n",
              "      <td>9</td>\n",
              "      <td>2019</td>\n",
              "    </tr>\n",
              "    <tr>\n",
              "      <th>52329</th>\n",
              "      <td>2019-09-01</td>\n",
              "      <td>5</td>\n",
              "      <td>42</td>\n",
              "      <td>6.554886</td>\n",
              "      <td>16.0</td>\n",
              "      <td>9</td>\n",
              "      <td>2019</td>\n",
              "    </tr>\n",
              "    <tr>\n",
              "      <th>53606</th>\n",
              "      <td>2019-09-01</td>\n",
              "      <td>9</td>\n",
              "      <td>15</td>\n",
              "      <td>7.144317</td>\n",
              "      <td>243.0</td>\n",
              "      <td>9</td>\n",
              "      <td>2019</td>\n",
              "    </tr>\n",
              "  </tbody>\n",
              "</table>\n",
              "<p>13686 rows × 7 columns</p>\n",
              "</div>"
            ],
            "text/plain": [
              "      month_date  region_id  industry_id  ...   cnt_fl  month  year\n",
              "57    2017-01-01          8           30  ...   2109.0      1  2017\n",
              "114   2017-01-01          4           14  ...     41.0      1  2017\n",
              "68    2017-01-01          3           30  ...    756.0      1  2017\n",
              "31    2017-01-01          4           19  ...     12.0      1  2017\n",
              "98    2017-01-01          8           45  ...  11576.0      1  2017\n",
              "...          ...        ...          ...  ...      ...    ...   ...\n",
              "53682 2019-09-01          4            8  ...     85.0      9  2019\n",
              "52622 2019-09-01         10           15  ...    138.0      9  2019\n",
              "52343 2019-09-01          5           10  ...     14.0      9  2019\n",
              "52329 2019-09-01          5           42  ...     16.0      9  2019\n",
              "53606 2019-09-01          9           15  ...    243.0      9  2019\n",
              "\n",
              "[13686 rows x 7 columns]"
            ]
          },
          "metadata": {
            "tags": []
          },
          "execution_count": 53
        }
      ]
    },
    {
      "cell_type": "code",
      "metadata": {
        "id": "bGIQZXRTk7Uj",
        "colab_type": "code",
        "colab": {
          "base_uri": "https://localhost:8080/",
          "height": 402
        },
        "outputId": "3c6ef61a-744f-4d1a-f60c-279d0b282c1a"
      },
      "source": [
        "df_cnt_pred"
      ],
      "execution_count": 58,
      "outputs": [
        {
          "output_type": "execute_result",
          "data": {
            "text/html": [
              "<div>\n",
              "<style scoped>\n",
              "    .dataframe tbody tr th:only-of-type {\n",
              "        vertical-align: middle;\n",
              "    }\n",
              "\n",
              "    .dataframe tbody tr th {\n",
              "        vertical-align: top;\n",
              "    }\n",
              "\n",
              "    .dataframe thead th {\n",
              "        text-align: right;\n",
              "    }\n",
              "</style>\n",
              "<table border=\"1\" class=\"dataframe\">\n",
              "  <thead>\n",
              "    <tr style=\"text-align: right;\">\n",
              "      <th></th>\n",
              "      <th>month_date</th>\n",
              "      <th>region_id</th>\n",
              "      <th>industry_id</th>\n",
              "      <th>avg_staff_turnover_x</th>\n",
              "      <th>cnt_fl</th>\n",
              "    </tr>\n",
              "  </thead>\n",
              "  <tbody>\n",
              "    <tr>\n",
              "      <th>57</th>\n",
              "      <td>2017-01-01</td>\n",
              "      <td>8</td>\n",
              "      <td>30</td>\n",
              "      <td>1.610000</td>\n",
              "      <td>2109.0</td>\n",
              "    </tr>\n",
              "    <tr>\n",
              "      <th>114</th>\n",
              "      <td>2017-01-01</td>\n",
              "      <td>4</td>\n",
              "      <td>14</td>\n",
              "      <td>4.880000</td>\n",
              "      <td>41.0</td>\n",
              "    </tr>\n",
              "    <tr>\n",
              "      <th>68</th>\n",
              "      <td>2017-01-01</td>\n",
              "      <td>3</td>\n",
              "      <td>30</td>\n",
              "      <td>2.570000</td>\n",
              "      <td>756.0</td>\n",
              "    </tr>\n",
              "    <tr>\n",
              "      <th>31</th>\n",
              "      <td>2017-01-01</td>\n",
              "      <td>4</td>\n",
              "      <td>19</td>\n",
              "      <td>16.670000</td>\n",
              "      <td>12.0</td>\n",
              "    </tr>\n",
              "    <tr>\n",
              "      <th>98</th>\n",
              "      <td>2017-01-01</td>\n",
              "      <td>8</td>\n",
              "      <td>45</td>\n",
              "      <td>2.960000</td>\n",
              "      <td>11576.0</td>\n",
              "    </tr>\n",
              "    <tr>\n",
              "      <th>...</th>\n",
              "      <td>...</td>\n",
              "      <td>...</td>\n",
              "      <td>...</td>\n",
              "      <td>...</td>\n",
              "      <td>...</td>\n",
              "    </tr>\n",
              "    <tr>\n",
              "      <th>58465</th>\n",
              "      <td>2020-05-01</td>\n",
              "      <td>7</td>\n",
              "      <td>40</td>\n",
              "      <td>4.639509</td>\n",
              "      <td>NaN</td>\n",
              "    </tr>\n",
              "    <tr>\n",
              "      <th>58532</th>\n",
              "      <td>2020-05-01</td>\n",
              "      <td>4</td>\n",
              "      <td>23</td>\n",
              "      <td>11.162620</td>\n",
              "      <td>NaN</td>\n",
              "    </tr>\n",
              "    <tr>\n",
              "      <th>58170</th>\n",
              "      <td>2020-05-01</td>\n",
              "      <td>12</td>\n",
              "      <td>43</td>\n",
              "      <td>13.085023</td>\n",
              "      <td>NaN</td>\n",
              "    </tr>\n",
              "    <tr>\n",
              "      <th>58174</th>\n",
              "      <td>2020-05-01</td>\n",
              "      <td>12</td>\n",
              "      <td>37</td>\n",
              "      <td>14.605193</td>\n",
              "      <td>NaN</td>\n",
              "    </tr>\n",
              "    <tr>\n",
              "      <th>58517</th>\n",
              "      <td>2020-05-01</td>\n",
              "      <td>13</td>\n",
              "      <td>47</td>\n",
              "      <td>7.253830</td>\n",
              "      <td>NaN</td>\n",
              "    </tr>\n",
              "  </tbody>\n",
              "</table>\n",
              "<p>58652 rows × 5 columns</p>\n",
              "</div>"
            ],
            "text/plain": [
              "       month_date  region_id  industry_id  avg_staff_turnover_x   cnt_fl\n",
              "57     2017-01-01          8           30              1.610000   2109.0\n",
              "114    2017-01-01          4           14              4.880000     41.0\n",
              "68     2017-01-01          3           30              2.570000    756.0\n",
              "31     2017-01-01          4           19             16.670000     12.0\n",
              "98     2017-01-01          8           45              2.960000  11576.0\n",
              "...           ...        ...          ...                   ...      ...\n",
              "58465  2020-05-01          7           40              4.639509      NaN\n",
              "58532  2020-05-01          4           23             11.162620      NaN\n",
              "58170  2020-05-01         12           43             13.085023      NaN\n",
              "58174  2020-05-01         12           37             14.605193      NaN\n",
              "58517  2020-05-01         13           47              7.253830      NaN\n",
              "\n",
              "[58652 rows x 5 columns]"
            ]
          },
          "metadata": {
            "tags": []
          },
          "execution_count": 58
        }
      ]
    },
    {
      "cell_type": "code",
      "metadata": {
        "id": "iTi8DtNuoDpu",
        "colab_type": "code",
        "colab": {}
      },
      "source": [
        "df_cnt_pred.month_date = df_cnt_pred.month_date.apply(pd.to_datetime)"
      ],
      "execution_count": 62,
      "outputs": []
    },
    {
      "cell_type": "code",
      "metadata": {
        "id": "CE6NIjcvnXPj",
        "colab_type": "code",
        "colab": {}
      },
      "source": [
        "res = df_cnt_pred.merge(pred_df, on = [\"month_date\", \"region_id\", \"industry_id\"], how = \"outer\")"
      ],
      "execution_count": 82,
      "outputs": []
    },
    {
      "cell_type": "code",
      "metadata": {
        "id": "5r9rOf-qn5q8",
        "colab_type": "code",
        "colab": {}
      },
      "source": [
        "res.cnt_fl_x = res.cnt_fl_x.fillna(value = res.cnt_fl_y)"
      ],
      "execution_count": 83,
      "outputs": []
    },
    {
      "cell_type": "code",
      "metadata": {
        "id": "EQDnUJAFo7HQ",
        "colab_type": "code",
        "colab": {}
      },
      "source": [
        "res = res.drop([\"month\", \"year\", \"cnt_fl_y\"], axis = 1).rename(columns = {\"cnt_fl_x\": \"cnt_fl\", \"avg_staff_turnover_x\" : \"avg_staff_turnover\"})"
      ],
      "execution_count": 84,
      "outputs": []
    },
    {
      "cell_type": "code",
      "metadata": {
        "id": "Km8J5ed2pZIq",
        "colab_type": "code",
        "colab": {
          "base_uri": "https://localhost:8080/",
          "height": 402
        },
        "outputId": "716502c0-a937-40e4-b376-aa018518af14"
      },
      "source": [
        "res"
      ],
      "execution_count": 85,
      "outputs": [
        {
          "output_type": "execute_result",
          "data": {
            "text/html": [
              "<div>\n",
              "<style scoped>\n",
              "    .dataframe tbody tr th:only-of-type {\n",
              "        vertical-align: middle;\n",
              "    }\n",
              "\n",
              "    .dataframe tbody tr th {\n",
              "        vertical-align: top;\n",
              "    }\n",
              "\n",
              "    .dataframe thead th {\n",
              "        text-align: right;\n",
              "    }\n",
              "</style>\n",
              "<table border=\"1\" class=\"dataframe\">\n",
              "  <thead>\n",
              "    <tr style=\"text-align: right;\">\n",
              "      <th></th>\n",
              "      <th>month_date</th>\n",
              "      <th>region_id</th>\n",
              "      <th>industry_id</th>\n",
              "      <th>avg_staff_turnover</th>\n",
              "      <th>cnt_fl</th>\n",
              "    </tr>\n",
              "  </thead>\n",
              "  <tbody>\n",
              "    <tr>\n",
              "      <th>0</th>\n",
              "      <td>2017-01-01</td>\n",
              "      <td>8</td>\n",
              "      <td>30</td>\n",
              "      <td>1.61</td>\n",
              "      <td>2109.0</td>\n",
              "    </tr>\n",
              "    <tr>\n",
              "      <th>1</th>\n",
              "      <td>2017-01-01</td>\n",
              "      <td>8</td>\n",
              "      <td>30</td>\n",
              "      <td>1.61</td>\n",
              "      <td>2109.0</td>\n",
              "    </tr>\n",
              "    <tr>\n",
              "      <th>2</th>\n",
              "      <td>2017-01-01</td>\n",
              "      <td>8</td>\n",
              "      <td>30</td>\n",
              "      <td>1.61</td>\n",
              "      <td>2109.0</td>\n",
              "    </tr>\n",
              "    <tr>\n",
              "      <th>3</th>\n",
              "      <td>2017-01-01</td>\n",
              "      <td>8</td>\n",
              "      <td>30</td>\n",
              "      <td>1.61</td>\n",
              "      <td>2109.0</td>\n",
              "    </tr>\n",
              "    <tr>\n",
              "      <th>4</th>\n",
              "      <td>2017-01-01</td>\n",
              "      <td>8</td>\n",
              "      <td>30</td>\n",
              "      <td>1.61</td>\n",
              "      <td>2109.0</td>\n",
              "    </tr>\n",
              "    <tr>\n",
              "      <th>...</th>\n",
              "      <td>...</td>\n",
              "      <td>...</td>\n",
              "      <td>...</td>\n",
              "      <td>...</td>\n",
              "      <td>...</td>\n",
              "    </tr>\n",
              "    <tr>\n",
              "      <th>59199</th>\n",
              "      <td>2020-06-01</td>\n",
              "      <td>5</td>\n",
              "      <td>29</td>\n",
              "      <td>NaN</td>\n",
              "      <td>57.0</td>\n",
              "    </tr>\n",
              "    <tr>\n",
              "      <th>59200</th>\n",
              "      <td>2020-06-01</td>\n",
              "      <td>5</td>\n",
              "      <td>5</td>\n",
              "      <td>NaN</td>\n",
              "      <td>5.0</td>\n",
              "    </tr>\n",
              "    <tr>\n",
              "      <th>59201</th>\n",
              "      <td>2020-06-01</td>\n",
              "      <td>5</td>\n",
              "      <td>42</td>\n",
              "      <td>NaN</td>\n",
              "      <td>22.0</td>\n",
              "    </tr>\n",
              "    <tr>\n",
              "      <th>59202</th>\n",
              "      <td>2020-06-01</td>\n",
              "      <td>5</td>\n",
              "      <td>34</td>\n",
              "      <td>NaN</td>\n",
              "      <td>3.0</td>\n",
              "    </tr>\n",
              "    <tr>\n",
              "      <th>59203</th>\n",
              "      <td>2020-06-01</td>\n",
              "      <td>5</td>\n",
              "      <td>36</td>\n",
              "      <td>NaN</td>\n",
              "      <td>173.0</td>\n",
              "    </tr>\n",
              "  </tbody>\n",
              "</table>\n",
              "<p>59204 rows × 5 columns</p>\n",
              "</div>"
            ],
            "text/plain": [
              "      month_date  region_id  industry_id  avg_staff_turnover  cnt_fl\n",
              "0     2017-01-01          8           30                1.61  2109.0\n",
              "1     2017-01-01          8           30                1.61  2109.0\n",
              "2     2017-01-01          8           30                1.61  2109.0\n",
              "3     2017-01-01          8           30                1.61  2109.0\n",
              "4     2017-01-01          8           30                1.61  2109.0\n",
              "...          ...        ...          ...                 ...     ...\n",
              "59199 2020-06-01          5           29                 NaN    57.0\n",
              "59200 2020-06-01          5            5                 NaN     5.0\n",
              "59201 2020-06-01          5           42                 NaN    22.0\n",
              "59202 2020-06-01          5           34                 NaN     3.0\n",
              "59203 2020-06-01          5           36                 NaN   173.0\n",
              "\n",
              "[59204 rows x 5 columns]"
            ]
          },
          "metadata": {
            "tags": []
          },
          "execution_count": 85
        }
      ]
    },
    {
      "cell_type": "code",
      "metadata": {
        "id": "7zh9MP4jpvtW",
        "colab_type": "code",
        "colab": {}
      },
      "source": [
        "res.to_csv(\"res.csv\", sep = \";\")"
      ],
      "execution_count": 81,
      "outputs": []
    },
    {
      "cell_type": "markdown",
      "metadata": {
        "id": "rCL2Hjinq66S",
        "colab_type": "text"
      },
      "source": [
        "Пердсказание последнего месяца текучки"
      ]
    },
    {
      "cell_type": "code",
      "metadata": {
        "id": "bFzYJugmq6NH",
        "colab_type": "code",
        "colab": {
          "base_uri": "https://localhost:8080/",
          "height": 34
        },
        "outputId": "a2f15971-e217-4f02-b710-eaefd8da14a5"
      },
      "source": [
        "df = res[res.month_date <= \"2020-05-01\"]\n",
        "df[\"month_date\"] = pd.to_datetime(df[\"month_date\"])\n",
        "df[\"month\"] = df[\"month_date\"].dt.month\n",
        "df[\"year\"] = df[\"month_date\"].dt.year\n",
        "X = df[[\"region_id\", \"industry_id\", \"month\", \"year\"]].values\n",
        "y = df[\"avg_staff_turnover\"].values\n",
        "\n",
        "oh_enc.fit(X[:,:3])\n",
        "\n",
        "X = creare_featuers(X, oh_enc)\n",
        "X.shape, y.shape"
      ],
      "execution_count": 97,
      "outputs": [
        {
          "output_type": "execute_result",
          "data": {
            "text/plain": [
              "((58652, 1180), (58652,))"
            ]
          },
          "metadata": {
            "tags": []
          },
          "execution_count": 97
        }
      ]
    },
    {
      "cell_type": "code",
      "metadata": {
        "id": "WN-0-an_rzMn",
        "colab_type": "code",
        "colab": {
          "base_uri": "https://localhost:8080/",
          "height": 34
        },
        "outputId": "24987496-9aeb-493e-f7e3-e776d3589f02"
      },
      "source": [
        "model.fit(X, np.log(y))"
      ],
      "execution_count": 98,
      "outputs": [
        {
          "output_type": "stream",
          "text": [
            "100%|██████████| 1000/1000 [04:29<00:00,  3.71it/s]\n"
          ],
          "name": "stderr"
        }
      ]
    },
    {
      "cell_type": "code",
      "metadata": {
        "id": "JY2cQ8bdsJsN",
        "colab_type": "code",
        "colab": {}
      },
      "source": [
        "# датасет для предсказаний\n",
        "dates = df[\"month_date\"]\n",
        "dates = pd.to_datetime(dates, format=\"%Y/%m/%d\")\n",
        "dates = dates[(dates > \"2019.05.01\")]\n",
        "dates = dates[(dates <= \"2019.06.01\")]\n",
        "\n",
        "dates = dates + pd.DateOffset(years=1)"
      ],
      "execution_count": 99,
      "outputs": []
    },
    {
      "cell_type": "code",
      "metadata": {
        "id": "G-ET0OnZsnGy",
        "colab_type": "code",
        "colab": {}
      },
      "source": [
        "u_reg_id = df[\"region_id\"].unique()\n",
        "u_ind_id = df[\"industry_id\"].unique()\n",
        "u_date = dates.unique()\n",
        "\n",
        "pred_df = pd.DataFrame(\n",
        "    data = list(it.product(u_date, u_reg_id, u_ind_id)),\n",
        "    columns = [\"month_date\", \"region_id\", \"industry_id\"])\n",
        "\n",
        "pred_df[\"month\"] = pred_df[\"month_date\"].dt.month\n",
        "pred_df[\"year\"] = pred_df[\"month_date\"].dt.year"
      ],
      "execution_count": 100,
      "outputs": []
    },
    {
      "cell_type": "code",
      "metadata": {
        "id": "JpCbyp4_stmY",
        "colab_type": "code",
        "colab": {
          "base_uri": "https://localhost:8080/",
          "height": 34
        },
        "outputId": "af6497d5-2d60-4a3c-82cb-80fd1c5f654a"
      },
      "source": [
        "X = pred_df[[\"region_id\", \"industry_id\", \"month\", \"year\"]].values\n",
        "\n",
        "X_future = creare_featuers(X, oh_enc)\n",
        "X_future.shape"
      ],
      "execution_count": 101,
      "outputs": [
        {
          "output_type": "execute_result",
          "data": {
            "text/plain": [
              "(552, 1180)"
            ]
          },
          "metadata": {
            "tags": []
          },
          "execution_count": 101
        }
      ]
    },
    {
      "cell_type": "code",
      "metadata": {
        "id": "YOwyU25CsyOv",
        "colab_type": "code",
        "colab": {}
      },
      "source": [
        "pred = np.exp(model.predict(X_future))\n",
        "pred[pred < 0] = 0"
      ],
      "execution_count": 102,
      "outputs": []
    },
    {
      "cell_type": "code",
      "metadata": {
        "id": "xWST57KBtHo0",
        "colab_type": "code",
        "colab": {
          "base_uri": "https://localhost:8080/",
          "height": 1000
        },
        "outputId": "317b0464-da9c-4fc9-a7db-d1c29e00ce52"
      },
      "source": [
        "pred"
      ],
      "execution_count": 103,
      "outputs": [
        {
          "output_type": "execute_result",
          "data": {
            "text/plain": [
              "array([ 4.54060421,  4.36849554,  5.01646691,  6.83206183,  5.03415296,\n",
              "        6.01772514,  3.58723716,  6.91071811,  4.72457845, 15.16519829,\n",
              "        4.58201013,  6.59840321,  4.05985621,  6.5227588 ,  7.16352835,\n",
              "        5.27018055,  4.44194758,  4.72457845,  5.40204221,  4.5157924 ,\n",
              "        5.67639608,  4.59393292,  5.26858231,  9.78171847,  3.56135512,\n",
              "        7.0256609 ,  3.66670043,  5.62296658,  6.54540439,  2.31040237,\n",
              "        6.84231993, 13.35595147,  5.33184469,  6.04196942,  4.05973736,\n",
              "        4.72457845, 11.09551323,  4.30219652,  6.70353239,  5.10905197,\n",
              "        4.90891171,  6.22675323,  3.72925451,  4.6627498 , 10.42371328,\n",
              "       12.98224742,  4.73068832,  4.7774702 ,  6.55244577,  8.43546977,\n",
              "        5.63947515,  5.13434202,  3.33239348,  7.86706069,  5.16688928,\n",
              "       16.58495064,  5.78226732,  6.68523242,  4.43993633,  6.60460226,\n",
              "        6.90917053,  7.83017035,  4.03247523,  5.16688928,  7.78585318,\n",
              "        4.31053508,  6.44172943,  7.63036316, 11.51244956, 13.77770753,\n",
              "        5.16688928,  3.19341276,  4.32458632, 10.47427714,  7.91939124,\n",
              "       13.06810444,  7.24467049, 14.22033427, 12.15815953,  6.60761322,\n",
              "        6.23382722,  3.54270047, 32.91730806,  5.16688928,  7.33111112,\n",
              "        7.00176914,  7.00643984,  6.40069823,  6.61699962, 25.27645358,\n",
              "        6.61643008, 17.04160826,  4.73671073,  4.41395086,  5.06866453,\n",
              "        5.29013334,  5.02065123,  4.87933083,  3.52221273,  6.3188933 ,\n",
              "        4.7737389 , 19.96975853,  5.70938458,  6.26057225,  4.34940497,\n",
              "        4.94268685,  8.33823773,  4.7737389 ,  4.7737389 ,  4.7737389 ,\n",
              "        5.69698243,  5.2764297 ,  5.73546044,  3.99689092, 10.63646333,\n",
              "        7.56960603,  5.3675607 ,  5.24484292,  3.97542452,  5.56221325,\n",
              "        6.66676061,  2.35905717,  5.04847724,  3.76401453,  4.17452975,\n",
              "        6.63458813,  4.02110559,  4.7737389 ,  5.38729638,  4.05253785,\n",
              "        6.50994639,  5.16221296,  4.0421115 ,  7.49204421,  4.07344731,\n",
              "        7.96570831,  6.11298365,  5.87487744,  5.19043755,  5.24176589,\n",
              "        6.01926794,  8.55599504,  6.06572508,  5.79442562,  8.51357529,\n",
              "        5.97551089,  5.44842065, 10.27643091,  4.87728218,  7.58249258,\n",
              "        4.87142899,  4.05328556,  4.23782346,  5.66903044,  4.53694886,\n",
              "        5.66903044,  5.66903044,  4.92322712,  6.81111818,  9.31919379,\n",
              "       12.63128035,  9.97628485,  8.99843332,  5.3597923 ,  4.90103069,\n",
              "        4.3983979 ,  7.57386227, 16.88462904,  8.44859969, 11.30267688,\n",
              "        6.69915706,  7.24977031,  4.77524441,  6.87659185, 11.93511099,\n",
              "       16.74932455,  8.04358093,  7.09263399,  4.80018987,  4.94517612,\n",
              "        7.26006892,  4.17528134,  4.76328786, 21.25925261,  5.10932032,\n",
              "        4.74398048,  6.65071446,  6.63390114,  4.56831054,  5.68640213,\n",
              "        3.7855674 ,  6.82257677,  5.5640139 ,  8.48848622, 16.61123309,\n",
              "        7.61806229,  3.50902635,  5.31733222,  8.96168497,  4.99183529,\n",
              "        5.13066976,  5.13066976,  9.42543843,  5.67094657,  5.5409996 ,\n",
              "        6.29291043, 11.43174812, 10.62248571,  5.13066976,  8.93503336,\n",
              "        4.9244097 ,  4.58364611,  8.8557273 ,  9.88096508,  6.00385889,\n",
              "       13.00410548, 13.36598982,  4.68392051,  4.3217623 ,  5.82416767,\n",
              "        8.22015275,  6.30099961,  7.27972056, 13.41179422,  5.9454623 ,\n",
              "        6.78627179, 16.69244946,  7.71242478, 15.20689255,  5.24417569,\n",
              "        4.54885804,  4.6101273 ,  7.69314183,  7.76718911,  4.66201096,\n",
              "        2.52052925,  3.22450701,  6.93114362,  4.37025123, 14.02786029,\n",
              "        7.98355469, 18.1109365 ,  4.49703695, 15.67109644,  9.61312899,\n",
              "       10.28724073,  4.60545555,  4.37025123,  9.64604884,  4.83045341,\n",
              "       12.23609106,  6.45390334,  9.73744436,  9.04812304,  4.37025123,\n",
              "        6.49876037,  3.49314354,  8.21466984,  6.69836868, 11.05324624,\n",
              "        4.58132755, 12.3543008 ,  7.71593693,  5.58884238,  7.3927764 ,\n",
              "        5.30708767,  7.00184077,  4.37025123,  6.20079039, 10.99167836,\n",
              "        1.59525219, 13.478623  ,  5.59678157, 19.40631307, 19.57206862,\n",
              "        4.46693441,  6.95346508,  5.35003919,  5.46637456,  8.19925537,\n",
              "        7.57330833,  5.91411459,  8.58296749,  8.52594777,  5.52329298,\n",
              "       18.57261943,  6.95219904,  8.59129417,  4.97205265,  3.28166724,\n",
              "        5.18881574,  6.43846992,  8.8616729 ,  5.78612926,  7.38648372,\n",
              "        4.97934928,  7.81444126,  8.54484491, 12.89219058, 11.9795423 ,\n",
              "        8.89528686,  4.39194535,  5.00721704,  7.93746716,  7.77309336,\n",
              "       14.63428717,  4.20245748,  5.1501606 ,  8.71062522,  6.68631679,\n",
              "       11.25239129,  6.91141483, 10.06882668,  6.69715506,  8.20972819,\n",
              "        6.25698893,  5.5023997 ,  5.04732309,  6.17155601,  9.65503537,\n",
              "        7.40939425, 19.89609689,  5.04851492,  5.73796913,  5.79605314,\n",
              "        5.87833223,  5.28757734,  7.38730643,  3.79178771,  7.62204109,\n",
              "        5.77159652, 14.59298789,  8.30518087,  6.75040224,  4.77427993,\n",
              "        6.75231037,  7.94099286,  5.95476426,  4.54631155,  4.54631155,\n",
              "        6.54049665,  5.02505348,  5.46221538,  8.09334636, 15.31063145,\n",
              "        6.29037897,  9.18255857,  6.76056999,  3.91624887,  3.59756627,\n",
              "        7.96572173,  5.08638735,  4.40000364,  3.54208913, 11.84366892,\n",
              "        7.50675692,  4.40838039,  7.0884393 ,  7.28391753, 10.53610833,\n",
              "       15.24183402,  8.59887081,  6.40623138,  5.78922098,  5.822254  ,\n",
              "        5.54287024,  3.28489677, 22.77659188,  5.74560426,  5.80242267,\n",
              "        6.66308596,  8.11400859,  5.58755854,  6.41419461,  4.63017548,\n",
              "        6.27538722,  6.27538722, 20.14306515, 11.46384829,  9.31774857,\n",
              "        5.39247471,  6.27538722, 10.9611505 ,  6.27538722,  6.27538722,\n",
              "        6.27538722,  6.27538722,  6.93620665,  7.53963212,  9.2673717 ,\n",
              "       13.98231605, 12.99249694,  6.27538722,  9.33178338,  4.14196   ,\n",
              "        5.60631566,  9.61840751, 15.87171917,  3.54619637, 17.73994612,\n",
              "       16.3481116 ,  8.02520227,  5.28600226,  6.27538722, 10.05417304,\n",
              "        6.27538722,  8.9039185 ,  6.7860614 ,  5.31361588,  5.47410979,\n",
              "        8.03660241, 10.47143658,  8.03591069,  6.41421777,  3.64194181,\n",
              "        4.72683989,  5.30605251,  4.81253191,  4.82711304,  5.54124708,\n",
              "        4.68739418,  5.42133085,  4.4925337 , 17.40167047, 12.38173496,\n",
              "        5.82658397,  4.92831511,  4.31752543,  7.50881589,  4.70104201,\n",
              "        3.75932991,  5.42133085,  5.42133085,  5.99221526,  6.51351682,\n",
              "        9.04600774, 12.07937593,  7.42275337, 10.43221608,  8.0617631 ,\n",
              "        3.57825498,  6.48001143,  7.60332825,  7.39912632,  9.34989583,\n",
              "        4.54899269, 14.12319569,  4.23382086,  6.23124984,  4.74317824,\n",
              "        8.68583827,  2.51271982,  7.692129  ,  4.63548449, 22.5294213 ,\n",
              "        5.90510576, 10.95219312,  9.04631382, 18.0031931 ,  8.05866276,\n",
              "        4.88342681,  5.58188982,  5.37273128,  8.86808629,  7.25451189,\n",
              "        6.17041013,  4.45419627,  7.25532658,  5.29936616,  4.56213075,\n",
              "        4.81963084,  7.99673336,  4.13126744,  4.54646224, 12.09305625,\n",
              "        5.24619605,  6.0368784 ,  6.0368784 ,  7.33711912,  4.46610265,\n",
              "        4.71289679,  8.91514644,  6.84304227, 12.49869074,  8.53847834,\n",
              "        6.06052813,  4.62046827,  5.90794945,  8.70967194,  2.48821849,\n",
              "        4.31501712,  7.06629999,  8.50015255,  7.72018818,  7.80440147,\n",
              "        6.0368784 ,  5.89656814,  4.12906107,  6.66673304,  6.52814337,\n",
              "        5.64534068,  4.53931912,  7.73115504, 10.0734484 ,  7.73048961,\n",
              "        7.44928398,  4.47773817,  3.11104231,  3.16182261,  9.97044316,\n",
              "        4.34788729,  5.51349602,  3.60291189,  6.10621832,  5.14294054,\n",
              "       21.6846205 , 14.40704287, 14.43586644,  4.1960853 ,  4.8831124 ,\n",
              "        8.52927922, 14.11419379,  4.8831124 ,  4.8831124 ,  7.3885805 ,\n",
              "        5.28826005,  4.56183602,  7.94808075, 10.8801606 , 10.10994551,\n",
              "        4.8831124 ,  5.5221669 ,  4.65091438,  8.70118144,  6.85497406,\n",
              "        6.8535378 ,  2.7594274 ,  9.9663312 ,  5.20792151,  3.96764399,\n",
              "        4.42664895, 16.48127242,  7.8235263 , 31.5900672 ,  6.92847043,\n",
              "       14.97648406, 16.31296369,  9.46959311, 14.954641  ,  8.1482146 ,\n",
              "        6.25304124,  4.99114161])"
            ]
          },
          "metadata": {
            "tags": []
          },
          "execution_count": 103
        }
      ]
    },
    {
      "cell_type": "code",
      "metadata": {
        "id": "hmzVeoHmtK87",
        "colab_type": "code",
        "colab": {}
      },
      "source": [
        "pred_df.loc[:,\"avg_staff_turnover\"] = pred"
      ],
      "execution_count": 104,
      "outputs": []
    },
    {
      "cell_type": "code",
      "metadata": {
        "id": "2KSY_ygMtfUG",
        "colab_type": "code",
        "colab": {}
      },
      "source": [
        "pred_df.avg_staff_turnover = list(map(lambda x: round(x, 2), pred_df.avg_staff_turnover))"
      ],
      "execution_count": 106,
      "outputs": []
    },
    {
      "cell_type": "code",
      "metadata": {
        "id": "6bcFRrpRtinQ",
        "colab_type": "code",
        "colab": {
          "base_uri": "https://localhost:8080/",
          "height": 402
        },
        "outputId": "877eea48-c0b3-49c3-8e83-35be42b9ae4a"
      },
      "source": [
        "pred_df"
      ],
      "execution_count": 107,
      "outputs": [
        {
          "output_type": "execute_result",
          "data": {
            "text/html": [
              "<div>\n",
              "<style scoped>\n",
              "    .dataframe tbody tr th:only-of-type {\n",
              "        vertical-align: middle;\n",
              "    }\n",
              "\n",
              "    .dataframe tbody tr th {\n",
              "        vertical-align: top;\n",
              "    }\n",
              "\n",
              "    .dataframe thead th {\n",
              "        text-align: right;\n",
              "    }\n",
              "</style>\n",
              "<table border=\"1\" class=\"dataframe\">\n",
              "  <thead>\n",
              "    <tr style=\"text-align: right;\">\n",
              "      <th></th>\n",
              "      <th>month_date</th>\n",
              "      <th>region_id</th>\n",
              "      <th>industry_id</th>\n",
              "      <th>month</th>\n",
              "      <th>year</th>\n",
              "      <th>avg_staff_turnover</th>\n",
              "    </tr>\n",
              "  </thead>\n",
              "  <tbody>\n",
              "    <tr>\n",
              "      <th>0</th>\n",
              "      <td>2020-06-01</td>\n",
              "      <td>8</td>\n",
              "      <td>30</td>\n",
              "      <td>6</td>\n",
              "      <td>2020</td>\n",
              "      <td>4.54</td>\n",
              "    </tr>\n",
              "    <tr>\n",
              "      <th>1</th>\n",
              "      <td>2020-06-01</td>\n",
              "      <td>8</td>\n",
              "      <td>14</td>\n",
              "      <td>6</td>\n",
              "      <td>2020</td>\n",
              "      <td>4.37</td>\n",
              "    </tr>\n",
              "    <tr>\n",
              "      <th>2</th>\n",
              "      <td>2020-06-01</td>\n",
              "      <td>8</td>\n",
              "      <td>19</td>\n",
              "      <td>6</td>\n",
              "      <td>2020</td>\n",
              "      <td>5.02</td>\n",
              "    </tr>\n",
              "    <tr>\n",
              "      <th>3</th>\n",
              "      <td>2020-06-01</td>\n",
              "      <td>8</td>\n",
              "      <td>45</td>\n",
              "      <td>6</td>\n",
              "      <td>2020</td>\n",
              "      <td>6.83</td>\n",
              "    </tr>\n",
              "    <tr>\n",
              "      <th>4</th>\n",
              "      <td>2020-06-01</td>\n",
              "      <td>8</td>\n",
              "      <td>25</td>\n",
              "      <td>6</td>\n",
              "      <td>2020</td>\n",
              "      <td>5.03</td>\n",
              "    </tr>\n",
              "    <tr>\n",
              "      <th>...</th>\n",
              "      <td>...</td>\n",
              "      <td>...</td>\n",
              "      <td>...</td>\n",
              "      <td>...</td>\n",
              "      <td>...</td>\n",
              "      <td>...</td>\n",
              "    </tr>\n",
              "    <tr>\n",
              "      <th>547</th>\n",
              "      <td>2020-06-01</td>\n",
              "      <td>5</td>\n",
              "      <td>29</td>\n",
              "      <td>6</td>\n",
              "      <td>2020</td>\n",
              "      <td>9.47</td>\n",
              "    </tr>\n",
              "    <tr>\n",
              "      <th>548</th>\n",
              "      <td>2020-06-01</td>\n",
              "      <td>5</td>\n",
              "      <td>5</td>\n",
              "      <td>6</td>\n",
              "      <td>2020</td>\n",
              "      <td>14.95</td>\n",
              "    </tr>\n",
              "    <tr>\n",
              "      <th>549</th>\n",
              "      <td>2020-06-01</td>\n",
              "      <td>5</td>\n",
              "      <td>42</td>\n",
              "      <td>6</td>\n",
              "      <td>2020</td>\n",
              "      <td>8.15</td>\n",
              "    </tr>\n",
              "    <tr>\n",
              "      <th>550</th>\n",
              "      <td>2020-06-01</td>\n",
              "      <td>5</td>\n",
              "      <td>34</td>\n",
              "      <td>6</td>\n",
              "      <td>2020</td>\n",
              "      <td>6.25</td>\n",
              "    </tr>\n",
              "    <tr>\n",
              "      <th>551</th>\n",
              "      <td>2020-06-01</td>\n",
              "      <td>5</td>\n",
              "      <td>36</td>\n",
              "      <td>6</td>\n",
              "      <td>2020</td>\n",
              "      <td>4.99</td>\n",
              "    </tr>\n",
              "  </tbody>\n",
              "</table>\n",
              "<p>552 rows × 6 columns</p>\n",
              "</div>"
            ],
            "text/plain": [
              "    month_date  region_id  industry_id  month  year  avg_staff_turnover\n",
              "0   2020-06-01          8           30      6  2020                4.54\n",
              "1   2020-06-01          8           14      6  2020                4.37\n",
              "2   2020-06-01          8           19      6  2020                5.02\n",
              "3   2020-06-01          8           45      6  2020                6.83\n",
              "4   2020-06-01          8           25      6  2020                5.03\n",
              "..         ...        ...          ...    ...   ...                 ...\n",
              "547 2020-06-01          5           29      6  2020                9.47\n",
              "548 2020-06-01          5            5      6  2020               14.95\n",
              "549 2020-06-01          5           42      6  2020                8.15\n",
              "550 2020-06-01          5           34      6  2020                6.25\n",
              "551 2020-06-01          5           36      6  2020                4.99\n",
              "\n",
              "[552 rows x 6 columns]"
            ]
          },
          "metadata": {
            "tags": []
          },
          "execution_count": 107
        }
      ]
    },
    {
      "cell_type": "code",
      "metadata": {
        "id": "_Y7L6g3fvW5s",
        "colab_type": "code",
        "colab": {}
      },
      "source": [
        "result = pred_df.merge(res, on = [\"month_date\", \"region_id\", \"industry_id\"], how = \"outer\")\n",
        "       "
      ],
      "execution_count": 118,
      "outputs": []
    },
    {
      "cell_type": "code",
      "metadata": {
        "id": "_w76WMEUv8uG",
        "colab_type": "code",
        "colab": {}
      },
      "source": [
        "result.avg_staff_turnover_x = result.avg_staff_turnover_x.fillna(value= result.avg_staff_turnover_y)"
      ],
      "execution_count": 120,
      "outputs": []
    },
    {
      "cell_type": "code",
      "metadata": {
        "id": "3fNm7PaTwFxp",
        "colab_type": "code",
        "colab": {}
      },
      "source": [
        "result.drop([\"month\", \"year\", \"avg_staff_turnover_y\"], axis = 1).rename(columns = {\"avg_staff_turnover_x\" : \"avg_staff_turnover\"}).to_csv(\"result.csv\", sep = \";\")"
      ],
      "execution_count": 124,
      "outputs": []
    },
    {
      "cell_type": "code",
      "metadata": {
        "id": "PpntK5NVwhU_",
        "colab_type": "code",
        "colab": {}
      },
      "source": [
        "result"
      ],
      "execution_count": null,
      "outputs": []
    },
    {
      "cell_type": "code",
      "metadata": {
        "id": "9Uy6bJpExmfG",
        "colab_type": "code",
        "colab": {}
      },
      "source": [
        "from google.colab import drive\n",
        "drive.mount('/content/drive')"
      ],
      "execution_count": null,
      "outputs": []
    }
  ]
}